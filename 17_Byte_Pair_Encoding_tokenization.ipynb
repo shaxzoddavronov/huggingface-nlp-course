{
  "nbformat": 4,
  "nbformat_minor": 0,
  "metadata": {
    "colab": {
      "provenance": []
    },
    "kernelspec": {
      "name": "python3",
      "display_name": "Python 3"
    },
    "language_info": {
      "name": "python"
    }
  },
  "cells": [
    {
      "cell_type": "code",
      "execution_count": 1,
      "metadata": {
        "id": "lLkrywpeqEfB"
      },
      "outputs": [],
      "source": [
        "from transformers import AutoTokenizer"
      ]
    },
    {
      "cell_type": "code",
      "source": [
        "corpus=[\n",
        "    \"This is my google colab notebook for transformers.\",\n",
        "    \"I am learning transformers now.\",\n",
        "    \"huggingface include many transformers!\",\n",
        "    \"There are dataset in huggingface also!\"]\n",
        "tokenizer=AutoTokenizer.from_pretrained(\"gpt2\")"
      ],
      "metadata": {
        "id": "D34G3O0QN1rW"
      },
      "execution_count": 21,
      "outputs": []
    },
    {
      "cell_type": "code",
      "source": [
        "from collections import defaultdict\n",
        "\n",
        "word_freq=defaultdict(int)\n",
        "\n",
        "for text in corpus:\n",
        "  words_with_offsets=tokenizer.backend_tokenizer.pre_tokenizer.pre_tokenize_str(text)\n",
        "  new_words=[word for word, offset in words_with_offsets]\n",
        "  for word in new_words:\n",
        "    word_freq[word]+=1\n",
        "\n",
        "word_freq"
      ],
      "metadata": {
        "colab": {
          "base_uri": "https://localhost:8080/"
        },
        "id": "RlR30vbBQKkl",
        "outputId": "693f40a6-1f9e-41c3-b125-893a0622e76b"
      },
      "execution_count": 22,
      "outputs": [
        {
          "output_type": "execute_result",
          "data": {
            "text/plain": [
              "defaultdict(int,\n",
              "            {'This': 1,\n",
              "             'Ġis': 1,\n",
              "             'Ġmy': 1,\n",
              "             'Ġgoogle': 1,\n",
              "             'Ġcolab': 1,\n",
              "             'Ġnotebook': 1,\n",
              "             'Ġfor': 1,\n",
              "             'Ġtransformers': 3,\n",
              "             '.': 2,\n",
              "             'I': 1,\n",
              "             'Ġam': 1,\n",
              "             'Ġlearning': 1,\n",
              "             'Ġnow': 1,\n",
              "             'huggingface': 1,\n",
              "             'Ġinclude': 1,\n",
              "             'Ġmany': 1,\n",
              "             '!': 2,\n",
              "             'There': 1,\n",
              "             'Ġare': 1,\n",
              "             'Ġdataset': 1,\n",
              "             'Ġin': 1,\n",
              "             'Ġhuggingface': 1,\n",
              "             'Ġalso': 1})"
            ]
          },
          "metadata": {},
          "execution_count": 22
        }
      ]
    },
    {
      "cell_type": "code",
      "source": [
        "alphabets=[]\n",
        "\n",
        "for word in word_freq.keys():\n",
        "  for char in word:\n",
        "    if char not in alphabets:\n",
        "      alphabets.append(char)\n",
        "print(alphabets)"
      ],
      "metadata": {
        "colab": {
          "base_uri": "https://localhost:8080/"
        },
        "id": "hu0IEYHZRP5Z",
        "outputId": "0a397aef-d1be-4233-d72c-740709b02aeb"
      },
      "execution_count": 23,
      "outputs": [
        {
          "output_type": "stream",
          "name": "stdout",
          "text": [
            "['T', 'h', 'i', 's', 'Ġ', 'm', 'y', 'g', 'o', 'l', 'e', 'c', 'a', 'b', 'n', 't', 'k', 'f', 'r', '.', 'I', 'w', 'u', 'd', '!']\n"
          ]
        }
      ]
    },
    {
      "cell_type": "code",
      "source": [
        "vocab = [\"<|endoftext|>\"] + alphabets.copy()"
      ],
      "metadata": {
        "id": "Cuezf-zGUBYe"
      },
      "execution_count": 24,
      "outputs": []
    },
    {
      "cell_type": "code",
      "source": [
        "splits={word:[c for c in word] for word in word_freq}\n",
        "splits"
      ],
      "metadata": {
        "colab": {
          "base_uri": "https://localhost:8080/"
        },
        "id": "zDAXEl9lU1wS",
        "outputId": "29f2bee9-f57f-44f7-d115-21d7413e3b2a"
      },
      "execution_count": 25,
      "outputs": [
        {
          "output_type": "execute_result",
          "data": {
            "text/plain": [
              "{'This': ['T', 'h', 'i', 's'],\n",
              " 'Ġis': ['Ġ', 'i', 's'],\n",
              " 'Ġmy': ['Ġ', 'm', 'y'],\n",
              " 'Ġgoogle': ['Ġ', 'g', 'o', 'o', 'g', 'l', 'e'],\n",
              " 'Ġcolab': ['Ġ', 'c', 'o', 'l', 'a', 'b'],\n",
              " 'Ġnotebook': ['Ġ', 'n', 'o', 't', 'e', 'b', 'o', 'o', 'k'],\n",
              " 'Ġfor': ['Ġ', 'f', 'o', 'r'],\n",
              " 'Ġtransformers': ['Ġ',\n",
              "  't',\n",
              "  'r',\n",
              "  'a',\n",
              "  'n',\n",
              "  's',\n",
              "  'f',\n",
              "  'o',\n",
              "  'r',\n",
              "  'm',\n",
              "  'e',\n",
              "  'r',\n",
              "  's'],\n",
              " '.': ['.'],\n",
              " 'I': ['I'],\n",
              " 'Ġam': ['Ġ', 'a', 'm'],\n",
              " 'Ġlearning': ['Ġ', 'l', 'e', 'a', 'r', 'n', 'i', 'n', 'g'],\n",
              " 'Ġnow': ['Ġ', 'n', 'o', 'w'],\n",
              " 'huggingface': ['h', 'u', 'g', 'g', 'i', 'n', 'g', 'f', 'a', 'c', 'e'],\n",
              " 'Ġinclude': ['Ġ', 'i', 'n', 'c', 'l', 'u', 'd', 'e'],\n",
              " 'Ġmany': ['Ġ', 'm', 'a', 'n', 'y'],\n",
              " '!': ['!'],\n",
              " 'There': ['T', 'h', 'e', 'r', 'e'],\n",
              " 'Ġare': ['Ġ', 'a', 'r', 'e'],\n",
              " 'Ġdataset': ['Ġ', 'd', 'a', 't', 'a', 's', 'e', 't'],\n",
              " 'Ġin': ['Ġ', 'i', 'n'],\n",
              " 'Ġhuggingface': ['Ġ', 'h', 'u', 'g', 'g', 'i', 'n', 'g', 'f', 'a', 'c', 'e'],\n",
              " 'Ġalso': ['Ġ', 'a', 'l', 's', 'o']}"
            ]
          },
          "metadata": {},
          "execution_count": 25
        }
      ]
    },
    {
      "cell_type": "code",
      "source": [
        "def pair_freqs_compute(splits):\n",
        "  pair_freqs = defaultdict(int)\n",
        "\n",
        "  for word,freq in word_freq.items():\n",
        "    split=splits[word]\n",
        "    if len(split)==1:\n",
        "      continue\n",
        "\n",
        "    for i in range(len(split)-1):\n",
        "      pair=(split[i],split[i+1])\n",
        "      pair_freqs[pair]+=freq\n",
        "\n",
        "  return pair_freqs\n",
        "pair_freqs=pair_freqs_compute(splits)\n",
        "pair_freqs"
      ],
      "metadata": {
        "colab": {
          "base_uri": "https://localhost:8080/"
        },
        "id": "UMWwL5RQVPTW",
        "outputId": "178aff37-9963-4670-99ad-9219fb68b38a"
      },
      "execution_count": 26,
      "outputs": [
        {
          "output_type": "execute_result",
          "data": {
            "text/plain": [
              "defaultdict(int,\n",
              "            {('T', 'h'): 2,\n",
              "             ('h', 'i'): 1,\n",
              "             ('i', 's'): 2,\n",
              "             ('Ġ', 'i'): 3,\n",
              "             ('Ġ', 'm'): 2,\n",
              "             ('m', 'y'): 1,\n",
              "             ('Ġ', 'g'): 1,\n",
              "             ('g', 'o'): 1,\n",
              "             ('o', 'o'): 2,\n",
              "             ('o', 'g'): 1,\n",
              "             ('g', 'l'): 1,\n",
              "             ('l', 'e'): 2,\n",
              "             ('Ġ', 'c'): 1,\n",
              "             ('c', 'o'): 1,\n",
              "             ('o', 'l'): 1,\n",
              "             ('l', 'a'): 1,\n",
              "             ('a', 'b'): 1,\n",
              "             ('Ġ', 'n'): 2,\n",
              "             ('n', 'o'): 2,\n",
              "             ('o', 't'): 1,\n",
              "             ('t', 'e'): 1,\n",
              "             ('e', 'b'): 1,\n",
              "             ('b', 'o'): 1,\n",
              "             ('o', 'k'): 1,\n",
              "             ('Ġ', 'f'): 1,\n",
              "             ('f', 'o'): 4,\n",
              "             ('o', 'r'): 4,\n",
              "             ('Ġ', 't'): 3,\n",
              "             ('t', 'r'): 3,\n",
              "             ('r', 'a'): 3,\n",
              "             ('a', 'n'): 4,\n",
              "             ('n', 's'): 3,\n",
              "             ('s', 'f'): 3,\n",
              "             ('r', 'm'): 3,\n",
              "             ('m', 'e'): 3,\n",
              "             ('e', 'r'): 4,\n",
              "             ('r', 's'): 3,\n",
              "             ('Ġ', 'a'): 3,\n",
              "             ('a', 'm'): 1,\n",
              "             ('Ġ', 'l'): 1,\n",
              "             ('e', 'a'): 1,\n",
              "             ('a', 'r'): 2,\n",
              "             ('r', 'n'): 1,\n",
              "             ('n', 'i'): 1,\n",
              "             ('i', 'n'): 5,\n",
              "             ('n', 'g'): 3,\n",
              "             ('o', 'w'): 1,\n",
              "             ('h', 'u'): 2,\n",
              "             ('u', 'g'): 2,\n",
              "             ('g', 'g'): 2,\n",
              "             ('g', 'i'): 2,\n",
              "             ('g', 'f'): 2,\n",
              "             ('f', 'a'): 2,\n",
              "             ('a', 'c'): 2,\n",
              "             ('c', 'e'): 2,\n",
              "             ('n', 'c'): 1,\n",
              "             ('c', 'l'): 1,\n",
              "             ('l', 'u'): 1,\n",
              "             ('u', 'd'): 1,\n",
              "             ('d', 'e'): 1,\n",
              "             ('m', 'a'): 1,\n",
              "             ('n', 'y'): 1,\n",
              "             ('h', 'e'): 1,\n",
              "             ('r', 'e'): 2,\n",
              "             ('Ġ', 'd'): 1,\n",
              "             ('d', 'a'): 1,\n",
              "             ('a', 't'): 1,\n",
              "             ('t', 'a'): 1,\n",
              "             ('a', 's'): 1,\n",
              "             ('s', 'e'): 1,\n",
              "             ('e', 't'): 1,\n",
              "             ('Ġ', 'h'): 1,\n",
              "             ('a', 'l'): 1,\n",
              "             ('l', 's'): 1,\n",
              "             ('s', 'o'): 1})"
            ]
          },
          "metadata": {},
          "execution_count": 26
        }
      ]
    },
    {
      "cell_type": "code",
      "source": [
        "best_pair=\"\"\n",
        "max_freq=None\n",
        "\n",
        "for pair,freq in pair_freqs.items():\n",
        "  if max_freq is None or freq>max_freq:\n",
        "    best_pair=pair\n",
        "    max_freq=freq\n",
        "\n",
        "print(max_freq,best_pair)"
      ],
      "metadata": {
        "colab": {
          "base_uri": "https://localhost:8080/"
        },
        "id": "72u8e5JVXIjj",
        "outputId": "afbcf175-efb1-46f2-ffdc-f6d5d5818ddc"
      },
      "execution_count": 28,
      "outputs": [
        {
          "output_type": "stream",
          "name": "stdout",
          "text": [
            "5 ('i', 'n')\n"
          ]
        }
      ]
    },
    {
      "cell_type": "code",
      "source": [
        "merges = {(\"Ġ\", \"t\"): \"Ġt\"}\n",
        "vocab.append(\"Ġt\")"
      ],
      "metadata": {
        "id": "2fhGk7gMgp04"
      },
      "execution_count": 30,
      "outputs": []
    },
    {
      "cell_type": "code",
      "source": [
        "def merge_pair(a, b, splits):\n",
        "    for word in word_freq:\n",
        "        split = splits[word]\n",
        "        if len(split) == 1:\n",
        "            continue\n",
        "\n",
        "        i = 0\n",
        "        while i < len(split) - 1:\n",
        "            if split[i] == a and split[i + 1] == b:\n",
        "                split = split[:i] + [a + b] + split[i + 2 :]\n",
        "            else:\n",
        "                i += 1\n",
        "        splits[word] = split\n",
        "    return splits"
      ],
      "metadata": {
        "id": "ocxJd6MuhOAu"
      },
      "execution_count": 37,
      "outputs": []
    },
    {
      "cell_type": "code",
      "source": [
        "splits=merge_pair(\"i\", \"n\", splits)\n",
        "splits['huggingface']"
      ],
      "metadata": {
        "colab": {
          "base_uri": "https://localhost:8080/"
        },
        "id": "toz2SS0DiVP_",
        "outputId": "15256a0c-ad28-4bf6-c345-d3483adccc7b"
      },
      "execution_count": 38,
      "outputs": [
        {
          "output_type": "execute_result",
          "data": {
            "text/plain": [
              "['h', 'u', 'g', 'g', 'in', 'g', 'f', 'a', 'c', 'e']"
            ]
          },
          "metadata": {},
          "execution_count": 38
        }
      ]
    },
    {
      "cell_type": "code",
      "source": [
        "vocab_size = 50\n",
        "\n",
        "while len(vocab) < vocab_size:\n",
        "    pair_freqs = pair_freqs_compute(splits)\n",
        "    best_pair = \"\"\n",
        "    max_freq = None\n",
        "    for pair, freq in pair_freqs.items():\n",
        "        if max_freq is None or max_freq < freq:\n",
        "            best_pair = pair\n",
        "            max_freq = freq\n",
        "    splits = merge_pair(*best_pair, splits)\n",
        "    merges[best_pair] = best_pair[0] + best_pair[1]\n",
        "    vocab.append(best_pair[0] + best_pair[1])"
      ],
      "metadata": {
        "id": "JHsH0oO-jIQ5"
      },
      "execution_count": 40,
      "outputs": []
    },
    {
      "cell_type": "code",
      "source": [
        "print(merges)"
      ],
      "metadata": {
        "colab": {
          "base_uri": "https://localhost:8080/"
        },
        "id": "TF4lTW1ljtx8",
        "outputId": "e131bf85-e510-434c-8c2f-22480d554439"
      },
      "execution_count": 41,
      "outputs": [
        {
          "output_type": "stream",
          "name": "stdout",
          "text": [
            "{('Ġ', 't'): 'Ġt', ('f', 'o'): 'fo', ('fo', 'r'): 'for', ('a', 'n'): 'an', ('e', 'r'): 'er', ('Ġt', 'r'): 'Ġtr', ('Ġtr', 'an'): 'Ġtran', ('Ġtran', 's'): 'Ġtrans', ('Ġtrans', 'for'): 'Ġtransfor', ('Ġtransfor', 'm'): 'Ġtransform', ('Ġtransform', 'er'): 'Ġtransformer', ('Ġtransformer', 's'): 'Ġtransformers', ('Ġ', 'a'): 'Ġa', ('in', 'g'): 'ing', ('T', 'h'): 'Th', ('i', 's'): 'is', ('Ġ', 'm'): 'Ġm', ('o', 'o'): 'oo', ('l', 'e'): 'le', ('Ġ', 'n'): 'Ġn', ('Ġn', 'o'): 'Ġno', ('h', 'u'): 'hu', ('hu', 'g'): 'hug'}\n"
          ]
        }
      ]
    },
    {
      "cell_type": "code",
      "source": [
        "print(vocab)"
      ],
      "metadata": {
        "colab": {
          "base_uri": "https://localhost:8080/"
        },
        "id": "c-t9LwTNjztH",
        "outputId": "5d398712-1c62-466b-e9ca-46c2e84b7ce3"
      },
      "execution_count": 42,
      "outputs": [
        {
          "output_type": "stream",
          "name": "stdout",
          "text": [
            "['<|endoftext|>', 'T', 'h', 'i', 's', 'Ġ', 'm', 'y', 'g', 'o', 'l', 'e', 'c', 'a', 'b', 'n', 't', 'k', 'f', 'r', '.', 'I', 'w', 'u', 'd', '!', 'Ġt', 'fo', 'for', 'an', 'er', 'Ġt', 'Ġtr', 'Ġtran', 'Ġtrans', 'Ġtransfor', 'Ġtransform', 'Ġtransformer', 'Ġtransformers', 'Ġa', 'ing', 'Th', 'is', 'Ġm', 'oo', 'le', 'Ġn', 'Ġno', 'hu', 'hug']\n"
          ]
        }
      ]
    },
    {
      "cell_type": "code",
      "source": [
        "def tokenize(text):\n",
        "    pre_tokenize_result = tokenizer._tokenizer.pre_tokenizer.pre_tokenize_str(text)\n",
        "    pre_tokenized_text = [word for word, offset in pre_tokenize_result]\n",
        "    splits = [[l for l in word] for word in pre_tokenized_text]\n",
        "    for pair, merge in merges.items():\n",
        "        for idx, split in enumerate(splits):\n",
        "            i = 0\n",
        "            while i < len(split) - 1:\n",
        "                if split[i] == pair[0] and split[i + 1] == pair[1]:\n",
        "                    split = split[:i] + [merge] + split[i + 2 :]\n",
        "                else:\n",
        "                    i += 1\n",
        "            splits[idx] = split\n",
        "\n",
        "    return sum(splits, [])"
      ],
      "metadata": {
        "id": "ae9KWlFsj168"
      },
      "execution_count": 43,
      "outputs": []
    },
    {
      "cell_type": "code",
      "source": [],
      "metadata": {
        "id": "g34-IPwFj-I7"
      },
      "execution_count": null,
      "outputs": []
    }
  ]
}